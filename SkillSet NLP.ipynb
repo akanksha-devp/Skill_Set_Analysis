{
 "cells": [
  {
   "cell_type": "markdown",
   "metadata": {},
   "source": [
    "# Dataset for Interns\n",
    "## Objective:\n",
    "### To analyze the skill sets of each candidate (Using NLP) and predict if a candidate will be selected or not based on those skills."
   ]
  },
  {
   "cell_type": "markdown",
   "metadata": {},
   "source": [
    "### Loading the data and other imports"
   ]
  },
  {
   "cell_type": "code",
   "execution_count": 1,
   "metadata": {},
   "outputs": [],
   "source": [
    "import pandas as pd\n",
    "import numpy as np\n",
    "import matplotlib.pyplot as plt\n",
    "import seaborn as sns\n",
    "pd.set_option('display.max_rows', 500)\n",
    "pd.set_option('display.max_columns', 500)\n",
    "pd.set_option('display.width', 1000)"
   ]
  },
  {
   "cell_type": "code",
   "execution_count": 2,
   "metadata": {},
   "outputs": [],
   "source": [
    "df=pd.read_excel (r'C:\\Users\\stuti\\Downloads\\Dataset for Interns.xlsx')"
   ]
  },
  {
   "cell_type": "code",
   "execution_count": 3,
   "metadata": {},
   "outputs": [
    {
     "data": {
      "text/html": [
       "<div>\n",
       "<style scoped>\n",
       "    .dataframe tbody tr th:only-of-type {\n",
       "        vertical-align: middle;\n",
       "    }\n",
       "\n",
       "    .dataframe tbody tr th {\n",
       "        vertical-align: top;\n",
       "    }\n",
       "\n",
       "    .dataframe thead th {\n",
       "        text-align: right;\n",
       "    }\n",
       "</style>\n",
       "<table border=\"1\" class=\"dataframe\">\n",
       "  <thead>\n",
       "    <tr style=\"text-align: right;\">\n",
       "      <th></th>\n",
       "      <th>Candidates_001</th>\n",
       "      <th>Unnamed: 1</th>\n",
       "      <th>Unnamed: 2</th>\n",
       "      <th>Unnamed: 3</th>\n",
       "      <th>Unnamed: 4</th>\n",
       "      <th>Unnamed: 5</th>\n",
       "      <th>Unnamed: 6</th>\n",
       "      <th>Unnamed: 7</th>\n",
       "      <th>Unnamed: 8</th>\n",
       "      <th>Unnamed: 9</th>\n",
       "      <th>Unnamed: 10</th>\n",
       "      <th>Unnamed: 11</th>\n",
       "      <th>Unnamed: 12</th>\n",
       "      <th>Unnamed: 13</th>\n",
       "      <th>Unnamed: 14</th>\n",
       "      <th>Unnamed: 15</th>\n",
       "      <th>Unnamed: 16</th>\n",
       "      <th>Unnamed: 17</th>\n",
       "      <th>Unnamed: 18</th>\n",
       "      <th>Unnamed: 19</th>\n",
       "      <th>Unnamed: 20</th>\n",
       "      <th>Unnamed: 21</th>\n",
       "      <th>Unnamed: 22</th>\n",
       "      <th>Unnamed: 23</th>\n",
       "    </tr>\n",
       "  </thead>\n",
       "  <tbody>\n",
       "    <tr>\n",
       "      <td>0</td>\n",
       "      <td>First Name</td>\n",
       "      <td>Career Page Invite Status</td>\n",
       "      <td>City</td>\n",
       "      <td>State/Province</td>\n",
       "      <td>Zip/Postal Code</td>\n",
       "      <td>Experience in Years</td>\n",
       "      <td>Current Employer</td>\n",
       "      <td>Current Job Title</td>\n",
       "      <td>Skill Set</td>\n",
       "      <td>Opt-In Status</td>\n",
       "      <td>Opt-In Mode</td>\n",
       "      <td>Opt-In Date</td>\n",
       "      <td>I Agree</td>\n",
       "      <td>Highest Qualification Held</td>\n",
       "      <td>Created Time</td>\n",
       "      <td>Modified Time</td>\n",
       "      <td>Source</td>\n",
       "      <td>Email Opt Out</td>\n",
       "      <td>Is Hot Candidate</td>\n",
       "      <td>Candidate Status</td>\n",
       "      <td>Willing to work on Contract (min 3 months)</td>\n",
       "      <td>LinkedIn Profile</td>\n",
       "      <td>Willing to work on Contract?</td>\n",
       "      <td>Gender</td>\n",
       "    </tr>\n",
       "    <tr>\n",
       "      <td>1</td>\n",
       "      <td>Sukhmani</td>\n",
       "      <td>Invited</td>\n",
       "      <td>Chandrapur</td>\n",
       "      <td>Maharashtra</td>\n",
       "      <td>442401</td>\n",
       "      <td>1</td>\n",
       "      <td>NaN</td>\n",
       "      <td>NaN</td>\n",
       "      <td>NaN</td>\n",
       "      <td>Opt-In Provided</td>\n",
       "      <td>Webform</td>\n",
       "      <td>12/07/2020</td>\n",
       "      <td>True</td>\n",
       "      <td>M.B.A</td>\n",
       "      <td>12/07/2020 11:28 AM</td>\n",
       "      <td>12/07/2020 11:28 AM</td>\n",
       "      <td>CareerSite</td>\n",
       "      <td>False</td>\n",
       "      <td>False</td>\n",
       "      <td>Associated</td>\n",
       "      <td>False</td>\n",
       "      <td>NaN</td>\n",
       "      <td>NaN</td>\n",
       "      <td>Female</td>\n",
       "    </tr>\n",
       "    <tr>\n",
       "      <td>2</td>\n",
       "      <td>Abhishek</td>\n",
       "      <td>To-be-invited</td>\n",
       "      <td>DDD</td>\n",
       "      <td>DDD</td>\n",
       "      <td>NaN</td>\n",
       "      <td>12</td>\n",
       "      <td>asdadsdsa</td>\n",
       "      <td>NaN</td>\n",
       "      <td>adsadaasda</td>\n",
       "      <td>Opt-In Provided</td>\n",
       "      <td>Webform</td>\n",
       "      <td>04/07/2020</td>\n",
       "      <td>True</td>\n",
       "      <td>M.C.A.</td>\n",
       "      <td>05/07/2020 05:13 AM</td>\n",
       "      <td>05/07/2020 05:13 AM</td>\n",
       "      <td>CareerSite</td>\n",
       "      <td>False</td>\n",
       "      <td>False</td>\n",
       "      <td>New</td>\n",
       "      <td>False</td>\n",
       "      <td>NaN</td>\n",
       "      <td>6-9 Months</td>\n",
       "      <td>Female</td>\n",
       "    </tr>\n",
       "    <tr>\n",
       "      <td>3</td>\n",
       "      <td>Parul</td>\n",
       "      <td>Invited</td>\n",
       "      <td>Jaipur</td>\n",
       "      <td>Rajasthan</td>\n",
       "      <td>302006</td>\n",
       "      <td>1</td>\n",
       "      <td>NaN</td>\n",
       "      <td>NaN</td>\n",
       "      <td>NaN</td>\n",
       "      <td>Opt-In Provided</td>\n",
       "      <td>Webform</td>\n",
       "      <td>28/06/2020</td>\n",
       "      <td>True</td>\n",
       "      <td>B.E.</td>\n",
       "      <td>28/06/2020 11:15 PM</td>\n",
       "      <td>28/06/2020 11:15 PM</td>\n",
       "      <td>CareerSite</td>\n",
       "      <td>False</td>\n",
       "      <td>False</td>\n",
       "      <td>Associated</td>\n",
       "      <td>False</td>\n",
       "      <td>https://www.linkedin.com/in/parul-shrivastava-...</td>\n",
       "      <td>NaN</td>\n",
       "      <td>Female</td>\n",
       "    </tr>\n",
       "    <tr>\n",
       "      <td>4</td>\n",
       "      <td>Arnab</td>\n",
       "      <td>Invited</td>\n",
       "      <td>Bengaluru</td>\n",
       "      <td>Karnataka</td>\n",
       "      <td>560078</td>\n",
       "      <td>0</td>\n",
       "      <td>NaN</td>\n",
       "      <td>NaN</td>\n",
       "      <td>NaN</td>\n",
       "      <td>Opt-In Provided</td>\n",
       "      <td>Others</td>\n",
       "      <td>26/06/2020</td>\n",
       "      <td>True</td>\n",
       "      <td>B.E.</td>\n",
       "      <td>27/06/2020 01:13 AM</td>\n",
       "      <td>27/06/2020 01:20 AM</td>\n",
       "      <td>CareerSite</td>\n",
       "      <td>False</td>\n",
       "      <td>False</td>\n",
       "      <td>Associated</td>\n",
       "      <td>False</td>\n",
       "      <td>NaN</td>\n",
       "      <td>NaN</td>\n",
       "      <td>Male</td>\n",
       "    </tr>\n",
       "  </tbody>\n",
       "</table>\n",
       "</div>"
      ],
      "text/plain": [
       "  Candidates_001                 Unnamed: 1  Unnamed: 2      Unnamed: 3       Unnamed: 4           Unnamed: 5        Unnamed: 6         Unnamed: 7  Unnamed: 8       Unnamed: 9  Unnamed: 10  Unnamed: 11 Unnamed: 12                 Unnamed: 13          Unnamed: 14          Unnamed: 15 Unnamed: 16    Unnamed: 17       Unnamed: 18       Unnamed: 19                                 Unnamed: 20                                        Unnamed: 21                   Unnamed: 22 Unnamed: 23\n",
       "0     First Name  Career Page Invite Status        City  State/Province  Zip/Postal Code  Experience in Years  Current Employer  Current Job Title   Skill Set    Opt-In Status  Opt-In Mode  Opt-In Date     I Agree  Highest Qualification Held         Created Time        Modified Time      Source  Email Opt Out  Is Hot Candidate  Candidate Status  Willing to work on Contract (min 3 months)                                   LinkedIn Profile  Willing to work on Contract?      Gender\n",
       "1       Sukhmani                    Invited  Chandrapur     Maharashtra           442401                    1               NaN                NaN         NaN  Opt-In Provided      Webform   12/07/2020        True                       M.B.A  12/07/2020 11:28 AM  12/07/2020 11:28 AM  CareerSite          False             False        Associated                                       False                                                NaN                           NaN      Female\n",
       "2       Abhishek              To-be-invited         DDD             DDD              NaN                   12         asdadsdsa                NaN  adsadaasda  Opt-In Provided      Webform   04/07/2020        True                      M.C.A.  05/07/2020 05:13 AM  05/07/2020 05:13 AM  CareerSite          False             False               New                                       False                                                NaN                    6-9 Months      Female\n",
       "3          Parul                    Invited      Jaipur       Rajasthan           302006                    1               NaN                NaN         NaN  Opt-In Provided      Webform   28/06/2020        True                        B.E.  28/06/2020 11:15 PM  28/06/2020 11:15 PM  CareerSite          False             False        Associated                                       False  https://www.linkedin.com/in/parul-shrivastava-...                           NaN      Female\n",
       "4          Arnab                    Invited   Bengaluru       Karnataka           560078                    0               NaN                NaN         NaN  Opt-In Provided       Others   26/06/2020        True                        B.E.  27/06/2020 01:13 AM  27/06/2020 01:20 AM  CareerSite          False             False        Associated                                       False                                                NaN                           NaN        Male"
      ]
     },
     "execution_count": 3,
     "metadata": {},
     "output_type": "execute_result"
    }
   ],
   "source": [
    "df.head()"
   ]
  },
  {
   "cell_type": "markdown",
   "metadata": {},
   "source": [
    "### Renaming the columns"
   ]
  },
  {
   "cell_type": "code",
   "execution_count": 4,
   "metadata": {},
   "outputs": [
    {
     "data": {
      "text/html": [
       "<div>\n",
       "<style scoped>\n",
       "    .dataframe tbody tr th:only-of-type {\n",
       "        vertical-align: middle;\n",
       "    }\n",
       "\n",
       "    .dataframe tbody tr th {\n",
       "        vertical-align: top;\n",
       "    }\n",
       "\n",
       "    .dataframe thead th {\n",
       "        text-align: right;\n",
       "    }\n",
       "</style>\n",
       "<table border=\"1\" class=\"dataframe\">\n",
       "  <thead>\n",
       "    <tr style=\"text-align: right;\">\n",
       "      <th></th>\n",
       "      <th>Candidates_001</th>\n",
       "      <th>Career Page Invite Status</th>\n",
       "      <th>City</th>\n",
       "      <th>State/Province</th>\n",
       "      <th>Zip/Postal Code</th>\n",
       "      <th>Experience in Years</th>\n",
       "      <th>Current Employer</th>\n",
       "      <th>Current Job Title</th>\n",
       "      <th>Skill Set</th>\n",
       "      <th>Opt-In Status</th>\n",
       "      <th>Opt-In Mode</th>\n",
       "      <th>Opt-In Date</th>\n",
       "      <th>I Agree</th>\n",
       "      <th>Highest Qualification Held</th>\n",
       "      <th>Created Time</th>\n",
       "      <th>Modified Time</th>\n",
       "      <th>Source</th>\n",
       "      <th>Email Opt Out</th>\n",
       "      <th>Is Hot Candidate</th>\n",
       "      <th>Candidate Status</th>\n",
       "      <th>Willing to work on Contract (min 3 months)</th>\n",
       "      <th>LinkedIn Profile</th>\n",
       "      <th>Willing to work on Contract?</th>\n",
       "      <th>Gender</th>\n",
       "    </tr>\n",
       "  </thead>\n",
       "  <tbody>\n",
       "    <tr>\n",
       "      <td>1</td>\n",
       "      <td>Sukhmani</td>\n",
       "      <td>Invited</td>\n",
       "      <td>Chandrapur</td>\n",
       "      <td>Maharashtra</td>\n",
       "      <td>442401</td>\n",
       "      <td>1</td>\n",
       "      <td>NaN</td>\n",
       "      <td>NaN</td>\n",
       "      <td>NaN</td>\n",
       "      <td>Opt-In Provided</td>\n",
       "      <td>Webform</td>\n",
       "      <td>12/07/2020</td>\n",
       "      <td>True</td>\n",
       "      <td>M.B.A</td>\n",
       "      <td>12/07/2020 11:28 AM</td>\n",
       "      <td>12/07/2020 11:28 AM</td>\n",
       "      <td>CareerSite</td>\n",
       "      <td>False</td>\n",
       "      <td>False</td>\n",
       "      <td>Associated</td>\n",
       "      <td>False</td>\n",
       "      <td>NaN</td>\n",
       "      <td>NaN</td>\n",
       "      <td>Female</td>\n",
       "    </tr>\n",
       "    <tr>\n",
       "      <td>2</td>\n",
       "      <td>Abhishek</td>\n",
       "      <td>To-be-invited</td>\n",
       "      <td>DDD</td>\n",
       "      <td>DDD</td>\n",
       "      <td>NaN</td>\n",
       "      <td>12</td>\n",
       "      <td>asdadsdsa</td>\n",
       "      <td>NaN</td>\n",
       "      <td>adsadaasda</td>\n",
       "      <td>Opt-In Provided</td>\n",
       "      <td>Webform</td>\n",
       "      <td>04/07/2020</td>\n",
       "      <td>True</td>\n",
       "      <td>M.C.A.</td>\n",
       "      <td>05/07/2020 05:13 AM</td>\n",
       "      <td>05/07/2020 05:13 AM</td>\n",
       "      <td>CareerSite</td>\n",
       "      <td>False</td>\n",
       "      <td>False</td>\n",
       "      <td>New</td>\n",
       "      <td>False</td>\n",
       "      <td>NaN</td>\n",
       "      <td>6-9 Months</td>\n",
       "      <td>Female</td>\n",
       "    </tr>\n",
       "    <tr>\n",
       "      <td>3</td>\n",
       "      <td>Parul</td>\n",
       "      <td>Invited</td>\n",
       "      <td>Jaipur</td>\n",
       "      <td>Rajasthan</td>\n",
       "      <td>302006</td>\n",
       "      <td>1</td>\n",
       "      <td>NaN</td>\n",
       "      <td>NaN</td>\n",
       "      <td>NaN</td>\n",
       "      <td>Opt-In Provided</td>\n",
       "      <td>Webform</td>\n",
       "      <td>28/06/2020</td>\n",
       "      <td>True</td>\n",
       "      <td>B.E.</td>\n",
       "      <td>28/06/2020 11:15 PM</td>\n",
       "      <td>28/06/2020 11:15 PM</td>\n",
       "      <td>CareerSite</td>\n",
       "      <td>False</td>\n",
       "      <td>False</td>\n",
       "      <td>Associated</td>\n",
       "      <td>False</td>\n",
       "      <td>https://www.linkedin.com/in/parul-shrivastava-...</td>\n",
       "      <td>NaN</td>\n",
       "      <td>Female</td>\n",
       "    </tr>\n",
       "    <tr>\n",
       "      <td>4</td>\n",
       "      <td>Arnab</td>\n",
       "      <td>Invited</td>\n",
       "      <td>Bengaluru</td>\n",
       "      <td>Karnataka</td>\n",
       "      <td>560078</td>\n",
       "      <td>0</td>\n",
       "      <td>NaN</td>\n",
       "      <td>NaN</td>\n",
       "      <td>NaN</td>\n",
       "      <td>Opt-In Provided</td>\n",
       "      <td>Others</td>\n",
       "      <td>26/06/2020</td>\n",
       "      <td>True</td>\n",
       "      <td>B.E.</td>\n",
       "      <td>27/06/2020 01:13 AM</td>\n",
       "      <td>27/06/2020 01:20 AM</td>\n",
       "      <td>CareerSite</td>\n",
       "      <td>False</td>\n",
       "      <td>False</td>\n",
       "      <td>Associated</td>\n",
       "      <td>False</td>\n",
       "      <td>NaN</td>\n",
       "      <td>NaN</td>\n",
       "      <td>Male</td>\n",
       "    </tr>\n",
       "    <tr>\n",
       "      <td>5</td>\n",
       "      <td>Noleeka</td>\n",
       "      <td>Enabled</td>\n",
       "      <td>Dist, Betul, Betul</td>\n",
       "      <td>Madhya Pradesh, Madhya Pradesh</td>\n",
       "      <td>460449</td>\n",
       "      <td>0</td>\n",
       "      <td>NaN</td>\n",
       "      <td>NaN</td>\n",
       "      <td>continuous development, C Programming Language...</td>\n",
       "      <td>Opt-In not requested</td>\n",
       "      <td>NaN</td>\n",
       "      <td>25/06/2020</td>\n",
       "      <td>False</td>\n",
       "      <td>Bachelor of Engineering</td>\n",
       "      <td>25/06/2020 04:19 PM</td>\n",
       "      <td>25/06/2020 04:19 PM</td>\n",
       "      <td>CareerSite</td>\n",
       "      <td>False</td>\n",
       "      <td>False</td>\n",
       "      <td>New</td>\n",
       "      <td>False</td>\n",
       "      <td>NaN</td>\n",
       "      <td>&lt; 3 Months</td>\n",
       "      <td>Female</td>\n",
       "    </tr>\n",
       "  </tbody>\n",
       "</table>\n",
       "</div>"
      ],
      "text/plain": [
       "  Candidates_001 Career Page Invite Status                City                  State/Province Zip/Postal Code Experience in Years Current Employer Current Job Title                                          Skill Set         Opt-In Status Opt-In Mode Opt-In Date I Agree Highest Qualification Held         Created Time        Modified Time      Source Email Opt Out Is Hot Candidate Candidate Status Willing to work on Contract (min 3 months)                                   LinkedIn Profile Willing to work on Contract?  Gender\n",
       "1       Sukhmani                   Invited          Chandrapur                     Maharashtra          442401                   1              NaN               NaN                                                NaN       Opt-In Provided     Webform  12/07/2020    True                      M.B.A  12/07/2020 11:28 AM  12/07/2020 11:28 AM  CareerSite         False            False       Associated                                      False                                                NaN                          NaN  Female\n",
       "2       Abhishek             To-be-invited                 DDD                             DDD             NaN                  12        asdadsdsa               NaN                                         adsadaasda       Opt-In Provided     Webform  04/07/2020    True                     M.C.A.  05/07/2020 05:13 AM  05/07/2020 05:13 AM  CareerSite         False            False              New                                      False                                                NaN                   6-9 Months  Female\n",
       "3          Parul                   Invited              Jaipur                       Rajasthan          302006                   1              NaN               NaN                                                NaN       Opt-In Provided     Webform  28/06/2020    True                       B.E.  28/06/2020 11:15 PM  28/06/2020 11:15 PM  CareerSite         False            False       Associated                                      False  https://www.linkedin.com/in/parul-shrivastava-...                          NaN  Female\n",
       "4          Arnab                   Invited           Bengaluru                       Karnataka          560078                   0              NaN               NaN                                                NaN       Opt-In Provided      Others  26/06/2020    True                       B.E.  27/06/2020 01:13 AM  27/06/2020 01:20 AM  CareerSite         False            False       Associated                                      False                                                NaN                          NaN    Male\n",
       "5        Noleeka                   Enabled  Dist, Betul, Betul  Madhya Pradesh, Madhya Pradesh          460449                   0              NaN               NaN  continuous development, C Programming Language...  Opt-In not requested         NaN  25/06/2020   False    Bachelor of Engineering  25/06/2020 04:19 PM  25/06/2020 04:19 PM  CareerSite         False            False              New                                      False                                                NaN                   < 3 Months  Female"
      ]
     },
     "execution_count": 4,
     "metadata": {},
     "output_type": "execute_result"
    }
   ],
   "source": [
    "df.rename( columns={'Unnamed: 1':'Career Page Invite Status'}, inplace=True )\n",
    "df.rename( columns={'Unnamed: 2':'City'}, inplace=True )\n",
    "df.rename( columns={'Unnamed: 3':'State/Province'}, inplace=True )\n",
    "df.rename( columns={'Unnamed: 4':'Zip/Postal Code'}, inplace=True )\n",
    "df.rename( columns={'Unnamed: 5':'Experience in Years'}, inplace=True )\n",
    "df.rename( columns={'Unnamed: 6':'Current Employer'}, inplace=True )\n",
    "df.rename( columns={'Unnamed: 7':'Current Job Title'}, inplace=True )\n",
    "df.rename( columns={'Unnamed: 8':'Skill Set'}, inplace=True )\n",
    "df.rename( columns={'Unnamed: 9':'Opt-In Status'}, inplace=True )\n",
    "df.rename( columns={'Unnamed: 10':'Opt-In Mode'}, inplace=True )\n",
    "df.rename( columns={'Unnamed: 11':'Opt-In Date'}, inplace=True )\n",
    "df.rename( columns={'Unnamed: 12':'I Agree'}, inplace=True )\n",
    "df.rename( columns={'Unnamed: 13':'Highest Qualification Held'}, inplace=True )\n",
    "df.rename( columns={'Unnamed: 14':'Created Time'}, inplace=True )\n",
    "df.rename( columns={'Unnamed: 15':'Modified Time'}, inplace=True )\n",
    "df.rename( columns={'Unnamed: 16':'Source'}, inplace=True )\n",
    "df.rename( columns={'Unnamed: 17':'Email Opt Out'}, inplace=True )\n",
    "df.rename( columns={'Unnamed: 18':'Is Hot Candidate'}, inplace=True )\n",
    "df.rename( columns={'Unnamed: 19':'Candidate Status'}, inplace=True )\n",
    "df.rename( columns={'Unnamed: 20':'Willing to work on Contract (min 3 months)'}, inplace=True )\n",
    "df.rename( columns={'Unnamed: 21':'LinkedIn Profile'}, inplace=True )\n",
    "df.rename( columns={'Unnamed: 22':'Willing to work on Contract?'}, inplace=True )\n",
    "df.rename( columns={'Unnamed: 23':'Gender'}, inplace=True )\n",
    "df.drop(df.index[0],inplace=True)\n",
    "df.head()"
   ]
  },
  {
   "cell_type": "markdown",
   "metadata": {},
   "source": [
    "### Creating a new data frame with 'Skill Set' and 'Opt-In Status' columns"
   ]
  },
  {
   "cell_type": "code",
   "execution_count": 5,
   "metadata": {},
   "outputs": [],
   "source": [
    "newdf=df[['Skill Set','Opt-In Status']]"
   ]
  },
  {
   "cell_type": "code",
   "execution_count": 6,
   "metadata": {},
   "outputs": [
    {
     "data": {
      "text/html": [
       "<div>\n",
       "<style scoped>\n",
       "    .dataframe tbody tr th:only-of-type {\n",
       "        vertical-align: middle;\n",
       "    }\n",
       "\n",
       "    .dataframe tbody tr th {\n",
       "        vertical-align: top;\n",
       "    }\n",
       "\n",
       "    .dataframe thead th {\n",
       "        text-align: right;\n",
       "    }\n",
       "</style>\n",
       "<table border=\"1\" class=\"dataframe\">\n",
       "  <thead>\n",
       "    <tr style=\"text-align: right;\">\n",
       "      <th></th>\n",
       "      <th>Skill Set</th>\n",
       "      <th>Opt-In Status</th>\n",
       "    </tr>\n",
       "  </thead>\n",
       "  <tbody>\n",
       "    <tr>\n",
       "      <td>1</td>\n",
       "      <td>NaN</td>\n",
       "      <td>Opt-In Provided</td>\n",
       "    </tr>\n",
       "    <tr>\n",
       "      <td>2</td>\n",
       "      <td>adsadaasda</td>\n",
       "      <td>Opt-In Provided</td>\n",
       "    </tr>\n",
       "    <tr>\n",
       "      <td>3</td>\n",
       "      <td>NaN</td>\n",
       "      <td>Opt-In Provided</td>\n",
       "    </tr>\n",
       "    <tr>\n",
       "      <td>4</td>\n",
       "      <td>NaN</td>\n",
       "      <td>Opt-In Provided</td>\n",
       "    </tr>\n",
       "    <tr>\n",
       "      <td>5</td>\n",
       "      <td>continuous development, C Programming Language...</td>\n",
       "      <td>Opt-In not requested</td>\n",
       "    </tr>\n",
       "  </tbody>\n",
       "</table>\n",
       "</div>"
      ],
      "text/plain": [
       "                                           Skill Set         Opt-In Status\n",
       "1                                                NaN       Opt-In Provided\n",
       "2                                         adsadaasda       Opt-In Provided\n",
       "3                                                NaN       Opt-In Provided\n",
       "4                                                NaN       Opt-In Provided\n",
       "5  continuous development, C Programming Language...  Opt-In not requested"
      ]
     },
     "execution_count": 6,
     "metadata": {},
     "output_type": "execute_result"
    }
   ],
   "source": [
    "newdf.head()"
   ]
  },
  {
   "cell_type": "markdown",
   "metadata": {},
   "source": [
    "### Deleting rows with NaN entries"
   ]
  },
  {
   "cell_type": "code",
   "execution_count": 8,
   "metadata": {},
   "outputs": [
    {
     "name": "stderr",
     "output_type": "stream",
     "text": [
      "C:\\Users\\stuti\\Anaconda3\\lib\\site-packages\\ipykernel_launcher.py:1: SettingWithCopyWarning: \n",
      "A value is trying to be set on a copy of a slice from a DataFrame\n",
      "\n",
      "See the caveats in the documentation: http://pandas.pydata.org/pandas-docs/stable/user_guide/indexing.html#returning-a-view-versus-a-copy\n",
      "  \"\"\"Entry point for launching an IPython kernel.\n"
     ]
    }
   ],
   "source": [
    "newdf.dropna(inplace=True)"
   ]
  },
  {
   "cell_type": "code",
   "execution_count": 12,
   "metadata": {},
   "outputs": [
    {
     "data": {
      "text/plain": [
       "str"
      ]
     },
     "execution_count": 12,
     "metadata": {},
     "output_type": "execute_result"
    }
   ],
   "source": [
    "type('Opt-In Status')"
   ]
  },
  {
   "cell_type": "markdown",
   "metadata": {},
   "source": [
    "### Creating dummy values for 'Opt-In Status'"
   ]
  },
  {
   "cell_type": "code",
   "execution_count": 14,
   "metadata": {},
   "outputs": [
    {
     "name": "stderr",
     "output_type": "stream",
     "text": [
      "C:\\Users\\stuti\\Anaconda3\\lib\\site-packages\\ipykernel_launcher.py:1: SettingWithCopyWarning: \n",
      "A value is trying to be set on a copy of a slice from a DataFrame.\n",
      "Try using .loc[row_indexer,col_indexer] = value instead\n",
      "\n",
      "See the caveats in the documentation: http://pandas.pydata.org/pandas-docs/stable/user_guide/indexing.html#returning-a-view-versus-a-copy\n",
      "  \"\"\"Entry point for launching an IPython kernel.\n"
     ]
    },
    {
     "data": {
      "text/html": [
       "<div>\n",
       "<style scoped>\n",
       "    .dataframe tbody tr th:only-of-type {\n",
       "        vertical-align: middle;\n",
       "    }\n",
       "\n",
       "    .dataframe tbody tr th {\n",
       "        vertical-align: top;\n",
       "    }\n",
       "\n",
       "    .dataframe thead th {\n",
       "        text-align: right;\n",
       "    }\n",
       "</style>\n",
       "<table border=\"1\" class=\"dataframe\">\n",
       "  <thead>\n",
       "    <tr style=\"text-align: right;\">\n",
       "      <th></th>\n",
       "      <th>Skill Set</th>\n",
       "      <th>Opt-In Status</th>\n",
       "      <th>Opt_In</th>\n",
       "    </tr>\n",
       "  </thead>\n",
       "  <tbody>\n",
       "    <tr>\n",
       "      <td>2</td>\n",
       "      <td>adsadaasda</td>\n",
       "      <td>Opt-In Provided</td>\n",
       "      <td>1</td>\n",
       "    </tr>\n",
       "    <tr>\n",
       "      <td>5</td>\n",
       "      <td>continuous development, C Programming Language...</td>\n",
       "      <td>Opt-In not requested</td>\n",
       "      <td>0</td>\n",
       "    </tr>\n",
       "    <tr>\n",
       "      <td>6</td>\n",
       "      <td>self development, technical and innovative ski...</td>\n",
       "      <td>Opt-In not requested</td>\n",
       "      <td>0</td>\n",
       "    </tr>\n",
       "    <tr>\n",
       "      <td>7</td>\n",
       "      <td>HTML, Machine Learning, MySQL, \\nPython</td>\n",
       "      <td>Opt-In not requested</td>\n",
       "      <td>0</td>\n",
       "    </tr>\n",
       "    <tr>\n",
       "      <td>8</td>\n",
       "      <td>Container orchestration management, Good time ...</td>\n",
       "      <td>Opt-In Provided</td>\n",
       "      <td>1</td>\n",
       "    </tr>\n",
       "  </tbody>\n",
       "</table>\n",
       "</div>"
      ],
      "text/plain": [
       "                                           Skill Set         Opt-In Status  Opt_In\n",
       "2                                         adsadaasda       Opt-In Provided       1\n",
       "5  continuous development, C Programming Language...  Opt-In not requested       0\n",
       "6  self development, technical and innovative ski...  Opt-In not requested       0\n",
       "7            HTML, Machine Learning, MySQL, \\nPython  Opt-In not requested       0\n",
       "8  Container orchestration management, Good time ...       Opt-In Provided       1"
      ]
     },
     "execution_count": 14,
     "metadata": {},
     "output_type": "execute_result"
    }
   ],
   "source": [
    "newdf['Opt_In'] = newdf['Opt-In Status'].map({'Opt-In Provided':1,'Opt-In not requested':0})\n",
    "newdf.head()"
   ]
  },
  {
   "cell_type": "markdown",
   "metadata": {},
   "source": [
    "### Adding 'length' column to store the length of each skill set entry"
   ]
  },
  {
   "cell_type": "code",
   "execution_count": 15,
   "metadata": {},
   "outputs": [
    {
     "name": "stderr",
     "output_type": "stream",
     "text": [
      "C:\\Users\\stuti\\Anaconda3\\lib\\site-packages\\ipykernel_launcher.py:1: SettingWithCopyWarning: \n",
      "A value is trying to be set on a copy of a slice from a DataFrame.\n",
      "Try using .loc[row_indexer,col_indexer] = value instead\n",
      "\n",
      "See the caveats in the documentation: http://pandas.pydata.org/pandas-docs/stable/user_guide/indexing.html#returning-a-view-versus-a-copy\n",
      "  \"\"\"Entry point for launching an IPython kernel.\n"
     ]
    },
    {
     "data": {
      "text/html": [
       "<div>\n",
       "<style scoped>\n",
       "    .dataframe tbody tr th:only-of-type {\n",
       "        vertical-align: middle;\n",
       "    }\n",
       "\n",
       "    .dataframe tbody tr th {\n",
       "        vertical-align: top;\n",
       "    }\n",
       "\n",
       "    .dataframe thead th {\n",
       "        text-align: right;\n",
       "    }\n",
       "</style>\n",
       "<table border=\"1\" class=\"dataframe\">\n",
       "  <thead>\n",
       "    <tr style=\"text-align: right;\">\n",
       "      <th></th>\n",
       "      <th>Skill Set</th>\n",
       "      <th>Opt-In Status</th>\n",
       "      <th>Opt_In</th>\n",
       "      <th>length</th>\n",
       "    </tr>\n",
       "  </thead>\n",
       "  <tbody>\n",
       "    <tr>\n",
       "      <td>2</td>\n",
       "      <td>adsadaasda</td>\n",
       "      <td>Opt-In Provided</td>\n",
       "      <td>1</td>\n",
       "      <td>10</td>\n",
       "    </tr>\n",
       "    <tr>\n",
       "      <td>5</td>\n",
       "      <td>continuous development, C Programming Language...</td>\n",
       "      <td>Opt-In not requested</td>\n",
       "      <td>0</td>\n",
       "      <td>165</td>\n",
       "    </tr>\n",
       "    <tr>\n",
       "      <td>6</td>\n",
       "      <td>self development, technical and innovative ski...</td>\n",
       "      <td>Opt-In not requested</td>\n",
       "      <td>0</td>\n",
       "      <td>133</td>\n",
       "    </tr>\n",
       "    <tr>\n",
       "      <td>7</td>\n",
       "      <td>HTML, Machine Learning, MySQL, \\nPython</td>\n",
       "      <td>Opt-In not requested</td>\n",
       "      <td>0</td>\n",
       "      <td>38</td>\n",
       "    </tr>\n",
       "    <tr>\n",
       "      <td>8</td>\n",
       "      <td>Container orchestration management, Good time ...</td>\n",
       "      <td>Opt-In Provided</td>\n",
       "      <td>1</td>\n",
       "      <td>929</td>\n",
       "    </tr>\n",
       "  </tbody>\n",
       "</table>\n",
       "</div>"
      ],
      "text/plain": [
       "                                           Skill Set         Opt-In Status  Opt_In  length\n",
       "2                                         adsadaasda       Opt-In Provided       1      10\n",
       "5  continuous development, C Programming Language...  Opt-In not requested       0     165\n",
       "6  self development, technical and innovative ski...  Opt-In not requested       0     133\n",
       "7            HTML, Machine Learning, MySQL, \\nPython  Opt-In not requested       0      38\n",
       "8  Container orchestration management, Good time ...       Opt-In Provided       1     929"
      ]
     },
     "execution_count": 15,
     "metadata": {},
     "output_type": "execute_result"
    }
   ],
   "source": [
    "newdf['length'] = newdf['Skill Set'].apply(len)\n",
    "newdf.head()"
   ]
  },
  {
   "cell_type": "markdown",
   "metadata": {},
   "source": [
    "### Visualizing lengths of skill sets"
   ]
  },
  {
   "cell_type": "code",
   "execution_count": 21,
   "metadata": {},
   "outputs": [
    {
     "data": {
      "text/plain": [
       "<matplotlib.axes._subplots.AxesSubplot at 0x1d016098f08>"
      ]
     },
     "execution_count": 21,
     "metadata": {},
     "output_type": "execute_result"
    },
    {
     "data": {
      "image/png": "[encoded data removed]",
      "text/plain": [
       "<Figure size 864x432 with 1 Axes>"
      ]
     },
     "metadata": {
      "needs_background": "light"
     },
     "output_type": "display_data"
    }
   ],
   "source": [
    "plt.figure(figsize=(12,6))\n",
    "newdf['length'].plot(bins=300, kind='hist') "
   ]
  },
  {
   "cell_type": "code",
   "execution_count": 23,
   "metadata": {},
   "outputs": [
    {
     "data": {
      "text/plain": [
       "count     258.000000\n",
       "mean      297.038760\n",
       "std       336.895934\n",
       "min         8.000000\n",
       "25%        87.000000\n",
       "50%       196.500000\n",
       "75%       407.500000\n",
       "max      3098.000000\n",
       "Name: length, dtype: float64"
      ]
     },
     "execution_count": 23,
     "metadata": {},
     "output_type": "execute_result"
    }
   ],
   "source": [
    "newdf.length.describe()"
   ]
  },
  {
   "cell_type": "markdown",
   "metadata": {},
   "source": [
    "### Deleting the row with outlier"
   ]
  },
  {
   "cell_type": "code",
   "execution_count": 27,
   "metadata": {},
   "outputs": [
    {
     "data": {
      "text/html": [
       "<div>\n",
       "<style scoped>\n",
       "    .dataframe tbody tr th:only-of-type {\n",
       "        vertical-align: middle;\n",
       "    }\n",
       "\n",
       "    .dataframe tbody tr th {\n",
       "        vertical-align: top;\n",
       "    }\n",
       "\n",
       "    .dataframe thead th {\n",
       "        text-align: right;\n",
       "    }\n",
       "</style>\n",
       "<table border=\"1\" class=\"dataframe\">\n",
       "  <thead>\n",
       "    <tr style=\"text-align: right;\">\n",
       "      <th></th>\n",
       "      <th>Skill Set</th>\n",
       "      <th>Opt-In Status</th>\n",
       "      <th>Opt_In</th>\n",
       "      <th>length</th>\n",
       "    </tr>\n",
       "  </thead>\n",
       "  <tbody>\n",
       "    <tr>\n",
       "      <td>608</td>\n",
       "      <td>20 years of of verifiable track record with 16...</td>\n",
       "      <td>Opt-In not requested</td>\n",
       "      <td>0</td>\n",
       "      <td>3098</td>\n",
       "    </tr>\n",
       "  </tbody>\n",
       "</table>\n",
       "</div>"
      ],
      "text/plain": [
       "                                             Skill Set         Opt-In Status  Opt_In  length\n",
       "608  20 years of of verifiable track record with 16...  Opt-In not requested       0    3098"
      ]
     },
     "execution_count": 27,
     "metadata": {},
     "output_type": "execute_result"
    }
   ],
   "source": [
    "newdf.loc[newdf['length']==3098.000000]"
   ]
  },
  {
   "cell_type": "code",
   "execution_count": 29,
   "metadata": {},
   "outputs": [
    {
     "name": "stderr",
     "output_type": "stream",
     "text": [
      "C:\\Users\\stuti\\Anaconda3\\lib\\site-packages\\pandas\\core\\frame.py:4102: SettingWithCopyWarning: \n",
      "A value is trying to be set on a copy of a slice from a DataFrame\n",
      "\n",
      "See the caveats in the documentation: http://pandas.pydata.org/pandas-docs/stable/user_guide/indexing.html#returning-a-view-versus-a-copy\n",
      "  errors=errors,\n"
     ]
    }
   ],
   "source": [
    "newdf.drop(index=608,inplace=True)\n",
    "newdf"
   ]
  },
  {
   "cell_type": "code",
   "execution_count": 30,
   "metadata": {},
   "outputs": [
    {
     "data": {
      "text/plain": [
       "<matplotlib.axes._subplots.AxesSubplot at 0x1d0188f3a08>"
      ]
     },
     "execution_count": 30,
     "metadata": {},
     "output_type": "execute_result"
    },
    {
     "data": {
      "image/png": "[encoded data removed]",
      "text/plain": [
       "<Figure size 864x432 with 1 Axes>"
      ]
     },
     "metadata": {
      "needs_background": "light"
     },
     "output_type": "display_data"
    }
   ],
   "source": [
    "plt.figure(figsize=(12,6))\n",
    "newdf['length'].plot(bins=300, kind='hist') "
   ]
  },
  {
   "cell_type": "markdown",
   "metadata": {},
   "source": [
    "### Trying to visualize if skill length is a distinguishing feature between selected and rejected candidate"
   ]
  },
  {
   "cell_type": "code",
   "execution_count": 31,
   "metadata": {},
   "outputs": [
    {
     "data": {
      "text/plain": [
       "array([<matplotlib.axes._subplots.AxesSubplot object at 0x000001D019C3D1C8>,\n",
       "       <matplotlib.axes._subplots.AxesSubplot object at 0x000001D019E205C8>],\n",
       "      dtype=object)"
      ]
     },
     "execution_count": 31,
     "metadata": {},
     "output_type": "execute_result"
    },
    {
     "data": {
      "image/png": "[encoded data removed]",
      "text/plain": [
       "<Figure size 864x288 with 2 Axes>"
      ]
     },
     "metadata": {
      "needs_background": "light"
     },
     "output_type": "display_data"
    }
   ],
   "source": [
    "newdf.hist(column='length', by='Opt-In Status', bins=50,figsize=(12,4))"
   ]
  },
  {
   "cell_type": "markdown",
   "metadata": {},
   "source": [
    "### Removing punctuation"
   ]
  },
  {
   "cell_type": "code",
   "execution_count": 33,
   "metadata": {},
   "outputs": [],
   "source": [
    "import string"
   ]
  },
  {
   "cell_type": "code",
   "execution_count": 34,
   "metadata": {},
   "outputs": [],
   "source": [
    "def text_process(mess):\n",
    "\n",
    "    # Check characters to see if they are in punctuation\n",
    "    nopunc = [char for char in mess if char not in string.punctuation]\n",
    "\n",
    "    # Join the characters again to form the string.\n",
    "    nopunc = ''.join(nopunc)\n",
    "    \n",
    "    return [word for word in nopunc.split()]"
   ]
  },
  {
   "cell_type": "code",
   "execution_count": 36,
   "metadata": {},
   "outputs": [
    {
     "data": {
      "text/html": [
       "<div>\n",
       "<style scoped>\n",
       "    .dataframe tbody tr th:only-of-type {\n",
       "        vertical-align: middle;\n",
       "    }\n",
       "\n",
       "    .dataframe tbody tr th {\n",
       "        vertical-align: top;\n",
       "    }\n",
       "\n",
       "    .dataframe thead th {\n",
       "        text-align: right;\n",
       "    }\n",
       "</style>\n",
       "<table border=\"1\" class=\"dataframe\">\n",
       "  <thead>\n",
       "    <tr style=\"text-align: right;\">\n",
       "      <th></th>\n",
       "      <th>Skill Set</th>\n",
       "      <th>Opt-In Status</th>\n",
       "      <th>Opt_In</th>\n",
       "      <th>length</th>\n",
       "    </tr>\n",
       "  </thead>\n",
       "  <tbody>\n",
       "    <tr>\n",
       "      <td>2</td>\n",
       "      <td>adsadaasda</td>\n",
       "      <td>Opt-In Provided</td>\n",
       "      <td>1</td>\n",
       "      <td>10</td>\n",
       "    </tr>\n",
       "    <tr>\n",
       "      <td>5</td>\n",
       "      <td>continuous development, C Programming Language...</td>\n",
       "      <td>Opt-In not requested</td>\n",
       "      <td>0</td>\n",
       "      <td>165</td>\n",
       "    </tr>\n",
       "    <tr>\n",
       "      <td>6</td>\n",
       "      <td>self development, technical and innovative ski...</td>\n",
       "      <td>Opt-In not requested</td>\n",
       "      <td>0</td>\n",
       "      <td>133</td>\n",
       "    </tr>\n",
       "    <tr>\n",
       "      <td>7</td>\n",
       "      <td>HTML, Machine Learning, MySQL, \\nPython</td>\n",
       "      <td>Opt-In not requested</td>\n",
       "      <td>0</td>\n",
       "      <td>38</td>\n",
       "    </tr>\n",
       "    <tr>\n",
       "      <td>8</td>\n",
       "      <td>Container orchestration management, Good time ...</td>\n",
       "      <td>Opt-In Provided</td>\n",
       "      <td>1</td>\n",
       "      <td>929</td>\n",
       "    </tr>\n",
       "  </tbody>\n",
       "</table>\n",
       "</div>"
      ],
      "text/plain": [
       "                                           Skill Set         Opt-In Status  Opt_In  length\n",
       "2                                         adsadaasda       Opt-In Provided       1      10\n",
       "5  continuous development, C Programming Language...  Opt-In not requested       0     165\n",
       "6  self development, technical and innovative ski...  Opt-In not requested       0     133\n",
       "7            HTML, Machine Learning, MySQL, \\nPython  Opt-In not requested       0      38\n",
       "8  Container orchestration management, Good time ...       Opt-In Provided       1     929"
      ]
     },
     "execution_count": 36,
     "metadata": {},
     "output_type": "execute_result"
    }
   ],
   "source": [
    "newdf.head()"
   ]
  },
  {
   "cell_type": "code",
   "execution_count": 37,
   "metadata": {},
   "outputs": [
    {
     "data": {
      "text/plain": [
       "2                                         [adsadaasda]\n",
       "5    [continuous, development, C, Programming, Lang...\n",
       "6    [self, development, technical, and, innovative...\n",
       "7             [HTML, Machine, Learning, MySQL, Python]\n",
       "8    [Container, orchestration, management, Good, t...\n",
       "Name: Skill Set, dtype: object"
      ]
     },
     "execution_count": 37,
     "metadata": {},
     "output_type": "execute_result"
    }
   ],
   "source": [
    "newdf['Skill Set'].head(5).apply(text_process)"
   ]
  },
  {
   "cell_type": "markdown",
   "metadata": {},
   "source": [
    "### Using SciKit Learn's CountVectorizer. This model will convert skill texts to a matrix of token counts."
   ]
  },
  {
   "cell_type": "code",
   "execution_count": 38,
   "metadata": {},
   "outputs": [],
   "source": [
    "from sklearn.feature_extraction.text import CountVectorizer"
   ]
  },
  {
   "cell_type": "code",
   "execution_count": 39,
   "metadata": {},
   "outputs": [
    {
     "name": "stdout",
     "output_type": "stream",
     "text": [
      "1876\n"
     ]
    }
   ],
   "source": [
    "bow_transformer = CountVectorizer(analyzer=text_process).fit(newdf['Skill Set'])\n",
    "print(len(bow_transformer.vocabulary_)) #total no. of vocabulary words"
   ]
  },
  {
   "cell_type": "code",
   "execution_count": 40,
   "metadata": {},
   "outputs": [
    {
     "name": "stdout",
     "output_type": "stream",
     "text": [
      "self development, technical and innovative skills, C++, DBMS, Java, Java 2, Microsoft Office, English, Indian > Hindi, Indian > Tamil\n"
     ]
    }
   ],
   "source": [
    "skill6 = newdf['Skill Set'][6]\n",
    "print(skill6)"
   ]
  },
  {
   "cell_type": "markdown",
   "metadata": {},
   "source": [
    "### Vector representation of the 6th skill"
   ]
  },
  {
   "cell_type": "code",
   "execution_count": 41,
   "metadata": {},
   "outputs": [
    {
     "name": "stdout",
     "output_type": "stream",
     "text": [
      "  (0, 5)\t1\n",
      "  (0, 201)\t1\n",
      "  (0, 325)\t1\n",
      "  (0, 403)\t1\n",
      "  (0, 535)\t1\n",
      "  (0, 583)\t2\n",
      "  (0, 638)\t2\n",
      "  (0, 759)\t1\n",
      "  (0, 825)\t1\n",
      "  (0, 1187)\t1\n",
      "  (0, 1335)\t1\n",
      "  (0, 1454)\t1\n",
      "  (0, 1571)\t1\n",
      "  (0, 1768)\t1\n",
      "  (0, 1782)\t1\n",
      "  (0, 1820)\t1\n",
      "(1, 1876)\n"
     ]
    }
   ],
   "source": [
    "bow6 = bow_transformer.transform([skill6])\n",
    "print(bow6)\n",
    "print(bow6.shape)\n",
    "#this means 16 unique words in skill6. 2 of them appear twice"
   ]
  },
  {
   "cell_type": "markdown",
   "metadata": {},
   "source": [
    "### This means that there are 16 unique words in skill number 6. Two of them appear twice, the rest only once. Now we check and confirm which ones appear twice:"
   ]
  },
  {
   "cell_type": "code",
   "execution_count": 43,
   "metadata": {},
   "outputs": [
    {
     "name": "stdout",
     "output_type": "stream",
     "text": [
      "Indian\n",
      "Java\n"
     ]
    }
   ],
   "source": [
    "print(bow_transformer.get_feature_names()[583])\n",
    "print(bow_transformer.get_feature_names()[638])"
   ]
  },
  {
   "cell_type": "markdown",
   "metadata": {},
   "source": [
    "### Using **.transform** on our Bag-of-Words (bow) transformed object and transform the entire column of skills. Moving ahead we check out how the bag-of-words counts for the entire skill corpus is a large, sparse matrix"
   ]
  },
  {
   "cell_type": "code",
   "execution_count": 44,
   "metadata": {},
   "outputs": [
    {
     "name": "stdout",
     "output_type": "stream",
     "text": [
      "Shape of Sparse Matrix:  (257, 1876)\n",
      "Amount of Non-Zero occurences:  6887\n"
     ]
    }
   ],
   "source": [
    "skill_bow = bow_transformer.transform(newdf['Skill Set'])\n",
    "print('Shape of Sparse Matrix: ', skill_bow.shape)\n",
    "print('Amount of Non-Zero occurences: ', skill_bow.nnz)"
   ]
  },
  {
   "cell_type": "code",
   "execution_count": 45,
   "metadata": {},
   "outputs": [
    {
     "name": "stdout",
     "output_type": "stream",
     "text": [
      "sparsity: 1\n"
     ]
    }
   ],
   "source": [
    "sparsity = (100.0 * skill_bow.nnz / (skill_bow.shape[0] * skill_bow.shape[1]))\n",
    "print('sparsity: {}'.format(round(sparsity)))"
   ]
  },
  {
   "cell_type": "markdown",
   "metadata": {},
   "source": [
    "### Now weighting can be done with TF-IDF, using scikit-learn's TfidfTransformer."
   ]
  },
  {
   "cell_type": "code",
   "execution_count": 49,
   "metadata": {},
   "outputs": [
    {
     "name": "stdout",
     "output_type": "stream",
     "text": [
      "  (0, 1820)\t0.29625961657226135\n",
      "  (0, 1782)\t0.19462762221379426\n",
      "  (0, 1768)\t0.3507457128764589\n",
      "  (0, 1571)\t0.3507457128764589\n",
      "  (0, 1454)\t0.204856391428708\n",
      "  (0, 1335)\t0.17952609396299204\n",
      "  (0, 1187)\t0.26719438918094623\n",
      "  (0, 825)\t0.15704007290068145\n",
      "  (0, 759)\t0.12150696967882799\n",
      "  (0, 638)\t0.3476125242240214\n",
      "  (0, 583)\t0.2729318262663391\n",
      "  (0, 535)\t0.1446167724272313\n",
      "  (0, 403)\t0.13960339961568993\n",
      "  (0, 325)\t0.30617238654265555\n",
      "  (0, 201)\t0.16140145357739613\n",
      "  (0, 5)\t0.29625961657226135\n"
     ]
    }
   ],
   "source": [
    "from sklearn.feature_extraction.text import TfidfTransformer\n",
    "\n",
    "tfidf_transformer = TfidfTransformer().fit(skill_bow)\n",
    "tfidf6 = tfidf_transformer.transform(bow6)\n",
    "print(tfidf6)"
   ]
  },
  {
   "cell_type": "markdown",
   "metadata": {},
   "source": [
    "### Transforming the entire bag-of-words corpus into TF-IDF corpus at once"
   ]
  },
  {
   "cell_type": "code",
   "execution_count": 47,
   "metadata": {},
   "outputs": [
    {
     "name": "stdout",
     "output_type": "stream",
     "text": [
      "(257, 1876)\n"
     ]
    }
   ],
   "source": [
    "skill_tfidf = tfidf_transformer.transform(skill_bow)\n",
    "print(skill_tfidf.shape)"
   ]
  },
  {
   "cell_type": "markdown",
   "metadata": {},
   "source": [
    "### Training the model"
   ]
  },
  {
   "cell_type": "code",
   "execution_count": 48,
   "metadata": {},
   "outputs": [],
   "source": [
    "from sklearn.naive_bayes import MultinomialNB\n",
    "opt_in_model = MultinomialNB().fit(skill_tfidf, newdf['Opt-In Status'])"
   ]
  },
  {
   "cell_type": "code",
   "execution_count": 51,
   "metadata": {},
   "outputs": [
    {
     "name": "stdout",
     "output_type": "stream",
     "text": [
      "predicted: Opt-In not requested\n",
      "expected: Opt-In not requested\n"
     ]
    }
   ],
   "source": [
    "print('predicted:', opt_in_model.predict(tfidf6)[0])\n",
    "print('expected:', newdf['Opt-In Status'][6])"
   ]
  },
  {
   "cell_type": "markdown",
   "metadata": {},
   "source": [
    "### Model evaluation"
   ]
  },
  {
   "cell_type": "code",
   "execution_count": 52,
   "metadata": {},
   "outputs": [],
   "source": [
    "all_predictions = opt_in_model.predict(skill_tfidf)\n"
   ]
  },
  {
   "cell_type": "code",
   "execution_count": 54,
   "metadata": {},
   "outputs": [
    {
     "name": "stdout",
     "output_type": "stream",
     "text": [
      "                      precision    recall  f1-score   support\n",
      "\n",
      "     Opt-In Provided       1.00      0.33      0.50        81\n",
      "Opt-In not requested       0.77      1.00      0.87       176\n",
      "\n",
      "            accuracy                           0.79       257\n",
      "           macro avg       0.88      0.67      0.68       257\n",
      "        weighted avg       0.84      0.79      0.75       257\n",
      "\n"
     ]
    }
   ],
   "source": [
    "from sklearn.metrics import classification_report, confusion_matrix\n",
    "print (classification_report(newdf['Opt-In Status'], all_predictions))"
   ]
  },
  {
   "cell_type": "code",
   "execution_count": 55,
   "metadata": {},
   "outputs": [
    {
     "name": "stdout",
     "output_type": "stream",
     "text": [
      "[[ 27  54]\n",
      " [  0 176]]\n"
     ]
    }
   ],
   "source": [
    "print (confusion_matrix(newdf['Opt-In Status'], all_predictions))"
   ]
  }
 ],
 "metadata": {
  "kernelspec": {
   "display_name": "Python 3",
   "language": "python",
   "name": "python3"
  },
  "language_info": {
   "codemirror_mode": {
    "name": "ipython",
    "version": 3
   },
   "file_extension": ".py",
   "mimetype": "text/x-python",
   "name": "python",
   "nbconvert_exporter": "python",
   "pygments_lexer": "ipython3",
   "version": "3.7.4"
  }
 },
 "nbformat": 4,
 "nbformat_minor": 2
}
